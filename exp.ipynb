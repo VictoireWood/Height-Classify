{
 "cells": [
  {
   "cell_type": "code",
   "execution_count": null,
   "metadata": {},
   "outputs": [],
   "source": [
    "from torch.utils.data import DataLoader\n",
    "from torchgeo.datasets import VHR10\n",
    " \n",
    "dataset = VHR10(root=\"...\", download=True, checksum=True)\n",
    "dataloader = DataLoader(dataset, batch_size=128, shuffle=True, num_workers=4)\n",
    " \n",
    "for batch in dataloader:\n",
    "    image = batch[\"image\"]\n",
    "    label = batch[\"label\"]\n",
    " \n",
    "    # train a model, or make predictions using a pre-trained model"
   ]
  },
  {
   "cell_type": "code",
   "execution_count": null,
   "metadata": {},
   "outputs": [],
   "source": [
    "import torch\n",
    "\n",
    "# assume 'x' is your input tensor with shape (32, 1, 2560)\n",
    "x = torch.randn(32, 1, 2560)\n",
    "\n",
    "# perform PCA on the input tensor\n",
    "components, explained_variance = torch.pca_lowrank(x, q=1280)\n",
    "\n",
    "# reconstruct the reduced tensor\n",
    "x_reduced = torch.matmul(x, components)\n",
    "\n",
    "print(x_reduced.shape)  # should be (32, 1, 1280)"
   ]
  },
  {
   "cell_type": "code",
   "execution_count": null,
   "metadata": {},
   "outputs": [],
   "source": [
    "import torch\n",
    "\n",
    "# assume 'x' is your input tensor with shape (32, 1, 2560)\n",
    "x = torch.randn(32, 1, 2560)\n",
    "\n",
    "# perform SVD (PCA) on the input tensor\n",
    "u, s, v = torch.svd(x)\n",
    "\n",
    "# select the top 1280 singular values and corresponding singular vectors\n",
    "u_reduced = u[:, :, :1280]\n",
    "s_reduced = s[:, :1280]\n",
    "v_reduced = v[:, :1280, :]\n",
    "\n",
    "# reconstruct the reduced tensor\n",
    "x_reduced = torch.matmul(u_reduced, torch.diag_embed(s_reduced))\n",
    "print(x_reduced.shape)  # should be (32, 1, 1280)\n",
    "x_reduced = torch.matmul(x_reduced, v_reduced)\n",
    "\n",
    "print(x_reduced.shape)  # should be (32, 1, 1280)"
   ]
  },
  {
   "cell_type": "code",
   "execution_count": null,
   "metadata": {},
   "outputs": [],
   "source": [
    "import torch\n",
    "\n",
    "def pca_reduction(data, n_components):\n",
    "    # 标准化数据\n",
    "    data_mean = torch.mean(data, dim=0, keepdim=True)\n",
    "    data_std = torch.std(data, dim=0, keepdim=True)\n",
    "    data_normalized = (data - data_mean) / data_std\n",
    "\n",
    "    # 计算协方差矩阵\n",
    "    cov_matrix = torch.cov(data_normalized.view(-1, data.size(-1)).T)\n",
    "\n",
    "    # 计算特征值和特征向量\n",
    "    eigenvalues, eigenvectors = torch.linalg.eigh(cov_matrix)\n",
    "\n",
    "    # 选择前 n_components 个特征向量\n",
    "    top_eigenvectors = eigenvectors[:, -n_components:]\n",
    "\n",
    "    # 投影数据\n",
    "    reduced_data = torch.matmul(data_normalized.view(-1, data.size(-1)), top_eigenvectors)\n",
    "\n",
    "    # 调整形状为 (32, 1, 100)\n",
    "    reduced_data = reduced_data.view(data.size(0), data.size(1), n_components)\n",
    "\n",
    "    return reduced_data\n",
    "\n",
    "# 假设你有一个形状为 (32, 1, 240) 的张量\n",
    "input_tensor = torch.randn(32, 1, 240)\n",
    "\n",
    "# 进行 PCA 降维到 100 维\n",
    "output_tensor = pca_reduction(input_tensor, n_components=100)\n",
    "\n",
    "print(output_tensor.shape)  # 输出应为 torch.Size([32, 1, 100])"
   ]
  }
 ],
 "metadata": {
  "kernelspec": {
   "display_name": "udc",
   "language": "python",
   "name": "python3"
  },
  "language_info": {
   "codemirror_mode": {
    "name": "ipython",
    "version": 3
   },
   "file_extension": ".py",
   "mimetype": "text/x-python",
   "name": "python",
   "nbconvert_exporter": "python",
   "pygments_lexer": "ipython3",
   "version": "3.12.4"
  }
 },
 "nbformat": 4,
 "nbformat_minor": 2
}
